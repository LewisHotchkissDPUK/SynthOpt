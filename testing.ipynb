{
 "cells": [
  {
   "cell_type": "code",
   "execution_count": null,
   "metadata": {},
   "outputs": [],
   "source": [
    "from synthopt.generate.metadata import generate_structural_metadata, generate_correlated_metadata, process\n",
    "from synthopt.generate.syntheticdata import generate_syntheticdata\n",
    "from synthopt.generate.syntheticdata import process\n",
    "from synthopt.evaluate.privacy import evaluate_privacy\n",
    "from synthopt.evaluate.quality import evaluate_quality\n",
    "from synthopt.evaluate.utility import evaluate_utility\n",
    "from synthopt.evaluate.visualisation import table_vis, attribute_vis\n",
    "from synthopt.evaluate.report import create_pdf_report\n",
    "from synthopt.optimise.optimise import optimise_epsilon\n",
    "from sklearn.model_selection import train_test_split\n",
    "import pandas as pd\n",
    "from functools import reduce\n",
    "import seaborn as sns\n",
    "from sklearn.impute import KNNImputer"
   ]
  },
  {
   "cell_type": "code",
   "execution_count": null,
   "metadata": {},
   "outputs": [],
   "source": [
    "## CORRELATED METADATA TESTING ##\n",
    "DATA = pd.read_csv(\"examples/ADNI_cleaned_subset1.csv\")\n",
    "METADATA, CORRELATION_MATRIX = process(DATA, True)\n",
    "SYNTHETIC_DATA = generate_correlated_metadata(METADATA, CORRELATION_MATRIX, 400)\n",
    "SYNTHETIC_DATA.to_csv(\"output/correlated_metadata_synthetic_data.csv\")"
   ]
  }
 ],
 "metadata": {
  "language_info": {
   "name": "python"
  }
 },
 "nbformat": 4,
 "nbformat_minor": 2
}
